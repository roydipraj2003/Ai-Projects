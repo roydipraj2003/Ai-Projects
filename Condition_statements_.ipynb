{
 "cells": [
  {
   "cell_type": "markdown",
   "id": "051e7139-6e4b-4750-93e0-0c3ee4b0e465",
   "metadata": {},
   "source": [
    "**Conditional statements**"
   ]
  },
  {
   "cell_type": "markdown",
   "id": "59fed70d-ef43-4701-a266-3bd1f804fa19",
   "metadata": {},
   "source": [
    "- Conditional statements means we want to run the code lines based on condition\n",
    "\n",
    "- if rain comes I will not go to school other wise I will go to movie\n",
    "\n",
    "- Rain is there will effect one process\n",
    "\n",
    "- Rain is not there will effect another process\n",
    "\n",
    "- if\n",
    "\n",
    "- elif\n",
    "\n",
    "- else\n",
    "\n"
   ]
  },
  {
   "cell_type": "code",
   "execution_count": 3,
   "id": "538129ee-0697-41f6-895f-fa7fd9ded8bb",
   "metadata": {},
   "outputs": [
    {
     "data": {
      "text/plain": [
       "True"
      ]
     },
     "execution_count": 3,
     "metadata": {},
     "output_type": "execute_result"
    }
   ],
   "source": [
    "100>10"
   ]
  },
  {
   "cell_type": "code",
   "execution_count": 5,
   "id": "6c2135e5-e9fe-4c0d-b977-0a67840f8a0e",
   "metadata": {},
   "outputs": [
    {
     "name": "stdout",
     "output_type": "stream",
     "text": [
      "good\n"
     ]
    }
   ],
   "source": [
    "if 100>10:\n",
    "    print(\"good\")"
   ]
  },
  {
   "cell_type": "code",
   "execution_count": 7,
   "id": "bac92e30-1c1d-4236-bb75-31d229b72e04",
   "metadata": {},
   "outputs": [
    {
     "name": "stdout",
     "output_type": "stream",
     "text": [
      "not god\n"
     ]
    }
   ],
   "source": [
    "if 100<10:\n",
    "    print(\"good\")\n",
    "else:\n",
    "    print(\"not god\")"
   ]
  },
  {
   "cell_type": "code",
   "execution_count": 11,
   "id": "66622d0b-96f8-4257-8e70-c04854bb226b",
   "metadata": {},
   "outputs": [
    {
     "name": "stdout",
     "output_type": "stream",
     "text": [
      "ak\n"
     ]
    }
   ],
   "source": [
    "name=\"akash\"\n",
    "if name==\"bikash\":\n",
    "    print(\"bk\")\n",
    "elif name==\"dipraj\":\n",
    "    print(\"dp\")\n",
    "elif name==\"akash\":\n",
    "    print(\"ak\")\n",
    "else:\n",
    "    print(\"not any one\")\n",
    "    "
   ]
  },
  {
   "cell_type": "code",
   "execution_count": null,
   "id": "52e255aa-b533-44bb-a800-6ec4a38c48a4",
   "metadata": {},
   "outputs": [],
   "source": []
  }
 ],
 "metadata": {
  "kernelspec": {
   "display_name": "Python 3 (ipykernel)",
   "language": "python",
   "name": "python3"
  },
  "language_info": {
   "codemirror_mode": {
    "name": "ipython",
    "version": 3
   },
   "file_extension": ".py",
   "mimetype": "text/x-python",
   "name": "python",
   "nbconvert_exporter": "python",
   "pygments_lexer": "ipython3",
   "version": "3.11.7"
  }
 },
 "nbformat": 4,
 "nbformat_minor": 5
}
